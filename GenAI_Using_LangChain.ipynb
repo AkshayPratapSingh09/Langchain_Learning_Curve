{
  "nbformat": 4,
  "nbformat_minor": 0,
  "metadata": {
    "colab": {
      "provenance": [],
      "authorship_tag": "ABX9TyPwRbaoCuuWAX7ttOvOYsgb",
      "include_colab_link": true
    },
    "kernelspec": {
      "name": "python3",
      "display_name": "Python 3"
    },
    "language_info": {
      "name": "python"
    }
  },
  "cells": [
    {
      "cell_type": "markdown",
      "metadata": {
        "id": "view-in-github",
        "colab_type": "text"
      },
      "source": [
        "<a href=\"https://colab.research.google.com/github/AkshayPratapSingh09/Langchain_Learning_Curve/blob/main/GenAI_Using_LangChain.ipynb\" target=\"_parent\"><img src=\"https://colab.research.google.com/assets/colab-badge.svg\" alt=\"Open In Colab\"/></a>"
      ]
    },
    {
      "cell_type": "markdown",
      "source": [
        "# ## **What is GenAI**?\n",
        "- Type of AI that creates New Content ***eg. Image, Text, Videos, code etc*** by learning patterns and mimicking human creativity\n",
        "<br>\n",
        "\n",
        "<div align=\"center\">\n",
        "  <img width=\"300px\" src=\"https://miro.medium.com/v2/resize:fit:1100/format:webp/1*f5y9ezDXqQ5uS6QRZPwSuQ.png\" />\n",
        "</div>\n",
        "\n",
        "### 💡Note :: Whenever you are trying to solve a GenAI problem always consider which section it Falls in\n",
        "<div align=\"center\">\n",
        "  <img width=\"600px\" src=\"https://i.ibb.co/nH35r3P/image.png\" alt=\"image\" border=\"0\">\n",
        "</div>\n",
        "\n",
        "## #Langchain\n",
        "\n",
        "***Open Source Framework that helps in building LLM based applications. It provides modular components and end-to-end tools that help developers build complex AI applications, such as chatbots,question- answering systems, retrieval-augmented generation(RAG), autonoumous agents, and more.***\n",
        "\n",
        "  1. Supports all the major LLMs\n",
        "  2. Simplifies developing LLM based applications\n",
        "  3. Integrations available for all major tools\n",
        "  4. Open Source/Free/Actively Developed\n",
        "  5. Supports all major GenAI use cases\n",
        "\n",
        "\n",
        "\n",
        "- ## What we can Build\n",
        "1. Conversational Chatbot\n",
        "1. AI Knowledge Assistants\n",
        "1. AI Agents\n",
        "1. Workflow Automation\n",
        "1. Summarization/Research Helpers\n",
        "\n",
        "\n",
        "### 💡Langchain Identified the problem of Standardization(Different packages and code for different offerings) of the Code to access Remote Model Deployment💡\n",
        "\n",
        "## #Components of Langchain\n",
        "1. ### Models\n",
        "2. ### Prompt\n",
        "3. ### Chains\n",
        "4. ### Indexes\n",
        "5. ### Memory\n",
        "6. ### Agents\n",
        "\n",
        "<img src=\"https://i.ibb.co/q3FwjHbv/image.png\" alt=\"image\" border=\"0\">\n",
        "\n",
        "Two types of models are there in Langchain\n",
        "- **Language Models** - Generative AI model to generate data\n",
        "- **Embedding Models** - Vectorization models to vecotorized and query/semantic search for RAG like systems(*Different embedding vectors for every model*)\n",
        "\n",
        "- Doc Link (Language Models Available) - https://python.langchain.com/docs/integrations/providers/\n",
        "- Doc Link (Embedding Models Available) - https://python.langchain.com/docs/integrations/text_embedding/\n",
        "\n",
        "\n",
        "## Chains\n",
        "\n",
        "- Used to build pipelines\n",
        "- These pipelines can facilitate other pipelines\n",
        "- For eg. One chain output can be another chains input\n",
        "\n",
        "<img src=\"https://i.ibb.co/B0XZC5W/image.png\" alt=\"image\" border=\"0\">\n",
        "\n",
        "## Indexes\n",
        "\n",
        "- It connects your application to external knowledge-such as PDF,websites or databases\n",
        "- eg.( *Doc Loader, Text splitter, vector storage, retrivers*)\n",
        "\n",
        "## Memory\n",
        "\n",
        "- LLM API calls are bydefault stateless(*They dont have previous or past messages*)\n",
        "\n"
      ],
      "metadata": {
        "id": "5fmU-h7jNihi"
      }
    },
    {
      "cell_type": "markdown",
      "source": [],
      "metadata": {
        "id": "DopXfeVFtwRb"
      }
    },
    {
      "cell_type": "code",
      "execution_count": null,
      "metadata": {
        "id": "iEc9bDvdNd1l"
      },
      "outputs": [],
      "source": []
    }
  ]
}